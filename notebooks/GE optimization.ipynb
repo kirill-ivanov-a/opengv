{
 "cells": [
  {
   "cell_type": "markdown",
   "id": "d6155d1e",
   "metadata": {},
   "source": [
    "# Оптимизация GE"
   ]
  },
  {
   "cell_type": "markdown",
   "id": "fc3ac275",
   "metadata": {},
   "source": [
    "## Характеристики оборудования:"
   ]
  },
  {
   "cell_type": "markdown",
   "id": "e3dd5dbd",
   "metadata": {},
   "source": [
    "Операционная система:"
   ]
  },
  {
   "cell_type": "code",
   "execution_count": 13,
   "id": "b3b2f4c0",
   "metadata": {},
   "outputs": [
    {
     "name": "stdout",
     "output_type": "stream",
     "text": [
      "PRETTY_NAME=\"Ubuntu 21.10\"\r\n",
      "NAME=\"Ubuntu\"\r\n",
      "VERSION_ID=\"21.10\"\r\n",
      "VERSION=\"21.10 (Impish Indri)\"\r\n",
      "VERSION_CODENAME=impish\r\n",
      "ID=ubuntu\r\n",
      "ID_LIKE=debian\r\n",
      "HOME_URL=\"https://www.ubuntu.com/\"\r\n",
      "SUPPORT_URL=\"https://help.ubuntu.com/\"\r\n",
      "BUG_REPORT_URL=\"https://bugs.launchpad.net/ubuntu/\"\r\n",
      "PRIVACY_POLICY_URL=\"https://www.ubuntu.com/legal/terms-and-policies/privacy-policy\"\r\n",
      "UBUNTU_CODENAME=impish\r\n"
     ]
    }
   ],
   "source": [
    "!cat /etc/os-release"
   ]
  },
  {
   "cell_type": "markdown",
   "id": "3e418dc7",
   "metadata": {},
   "source": [
    "CPU:"
   ]
  },
  {
   "cell_type": "code",
   "execution_count": 17,
   "id": "27362fda",
   "metadata": {},
   "outputs": [
    {
     "name": "stdout",
     "output_type": "stream",
     "text": [
      "Model name:                      11th Gen Intel(R) Core(TM) i5-11300H @ 3.10GHz\n",
      "Socket(s):                       1\n",
      "Core(s) per socket:              4\n",
      "Thread(s) per core:              2\n",
      "CPU MHz:                         3100.000\n",
      "CPU max MHz:                     4400,0000\n",
      "CPU min MHz:                     400,0000\n",
      "L1d cache:                       192 KiB\n",
      "L1i cache:                       128 KiB\n",
      "L2 cache:                        5 MiB\n",
      "L3 cache:                        8 MiB\n"
     ]
    }
   ],
   "source": [
    "!lscpu | grep 'Model name'\n",
    "!lscpu | grep 'Socket(s)'\n",
    "!lscpu | grep 'Core(s) per socket:'\n",
    "!lscpu | grep 'Thread(s) per core'\n",
    "!lscpu | grep 'MHz'\n",
    "!lscpu | grep 'cache'"
   ]
  },
  {
   "cell_type": "markdown",
   "id": "48e3e409",
   "metadata": {},
   "source": [
    "RAM:"
   ]
  },
  {
   "cell_type": "code",
   "execution_count": 15,
   "id": "6cf8c33d",
   "metadata": {},
   "outputs": [
    {
     "name": "stdout",
     "output_type": "stream",
     "text": [
      "MemTotal:       16176172 kB\r\n"
     ]
    }
   ],
   "source": [
    "!grep MemTotal /proc/meminfo"
   ]
  },
  {
   "cell_type": "code",
   "execution_count": 1,
   "id": "239148f7",
   "metadata": {},
   "outputs": [],
   "source": [
    "import pandas as pd\n",
    "import seaborn as sns\n",
    "import matplotlib.pyplot as plt\n",
    "import numpy as np"
   ]
  },
  {
   "cell_type": "code",
   "execution_count": 2,
   "id": "be11617a",
   "metadata": {},
   "outputs": [],
   "source": [
    "pd.options.display.float_format = '{:.7f}'.format\n",
    "sns.set(font_scale = 1.5)\n",
    "sns.set_style(\"whitegrid\", {'axes.grid' : False})"
   ]
  },
  {
   "cell_type": "markdown",
   "id": "d4e3f6fa",
   "metadata": {},
   "source": [
    "## Анализ количества flops"
   ]
  },
  {
   "cell_type": "markdown",
   "id": "8d795373",
   "metadata": {},
   "source": [
    "$\\texttt{composeG}:$ \n",
    "- mul: $678$\n",
    "- add: $563$\n",
    "\n",
    "$\\texttt{composeG_raw}:$ \n",
    "- mul: $21 + n \\times 64$\n",
    "- add: $15 + n \\times 48$"
   ]
  },
  {
   "cell_type": "markdown",
   "id": "0d3b031e",
   "metadata": {},
   "source": [
    "Можно также учитывать, что матрица $g g^T$ является симметрической. В этом случае:\n",
    "\n",
    "$\\texttt{composeG_raw}:$ \n",
    "- mul: $21 + n \\times 58$\n",
    "- add: $15 + n \\times 42$"
   ]
  },
  {
   "cell_type": "code",
   "execution_count": 30,
   "id": "fae01e69",
   "metadata": {},
   "outputs": [],
   "source": [
    "def ops_composeG_raw(x):\n",
    "    return 36 + x * 112\n",
    "\n",
    "def ops_composeG(x):\n",
    "    return 0 * x + 1241"
   ]
  },
  {
   "cell_type": "code",
   "execution_count": 31,
   "id": "4975a8f0",
   "metadata": {},
   "outputs": [],
   "source": [
    "cor_num = np.arange(5, 12)"
   ]
  },
  {
   "cell_type": "code",
   "execution_count": 32,
   "id": "ec9f6bec",
   "metadata": {},
   "outputs": [],
   "source": [
    "ops_data = {\"ops_composeG_raw\": ops_composeG_raw(cor_num), \"ops_composeG\": ops_composeG(cor_num)}"
   ]
  },
  {
   "cell_type": "code",
   "execution_count": 38,
   "id": "4a8dfd76",
   "metadata": {},
   "outputs": [],
   "source": [
    "df = pd.DataFrame(data=ops_data, index=cor_num)"
   ]
  },
  {
   "cell_type": "code",
   "execution_count": 39,
   "id": "c913da37",
   "metadata": {},
   "outputs": [
    {
     "data": {
      "text/html": [
       "<div>\n",
       "<style scoped>\n",
       "    .dataframe tbody tr th:only-of-type {\n",
       "        vertical-align: middle;\n",
       "    }\n",
       "\n",
       "    .dataframe tbody tr th {\n",
       "        vertical-align: top;\n",
       "    }\n",
       "\n",
       "    .dataframe thead th {\n",
       "        text-align: right;\n",
       "    }\n",
       "</style>\n",
       "<table border=\"1\" class=\"dataframe\">\n",
       "  <thead>\n",
       "    <tr style=\"text-align: right;\">\n",
       "      <th></th>\n",
       "      <th>ops_composeG_raw</th>\n",
       "      <th>ops_composeG</th>\n",
       "    </tr>\n",
       "  </thead>\n",
       "  <tbody>\n",
       "    <tr>\n",
       "      <th>5</th>\n",
       "      <td>596</td>\n",
       "      <td>1241</td>\n",
       "    </tr>\n",
       "    <tr>\n",
       "      <th>6</th>\n",
       "      <td>708</td>\n",
       "      <td>1241</td>\n",
       "    </tr>\n",
       "    <tr>\n",
       "      <th>7</th>\n",
       "      <td>820</td>\n",
       "      <td>1241</td>\n",
       "    </tr>\n",
       "    <tr>\n",
       "      <th>8</th>\n",
       "      <td>932</td>\n",
       "      <td>1241</td>\n",
       "    </tr>\n",
       "    <tr>\n",
       "      <th>9</th>\n",
       "      <td>1044</td>\n",
       "      <td>1241</td>\n",
       "    </tr>\n",
       "    <tr>\n",
       "      <th>10</th>\n",
       "      <td>1156</td>\n",
       "      <td>1241</td>\n",
       "    </tr>\n",
       "    <tr>\n",
       "      <th>11</th>\n",
       "      <td>1268</td>\n",
       "      <td>1241</td>\n",
       "    </tr>\n",
       "  </tbody>\n",
       "</table>\n",
       "</div>"
      ],
      "text/plain": [
       "    ops_composeG_raw  ops_composeG\n",
       "5                596          1241\n",
       "6                708          1241\n",
       "7                820          1241\n",
       "8                932          1241\n",
       "9               1044          1241\n",
       "10              1156          1241\n",
       "11              1268          1241"
      ]
     },
     "execution_count": 39,
     "metadata": {},
     "output_type": "execute_result"
    }
   ],
   "source": [
    "df"
   ]
  },
  {
   "cell_type": "code",
   "execution_count": 51,
   "id": "d782694c",
   "metadata": {},
   "outputs": [
    {
     "data": {
      "text/plain": [
       "1241"
      ]
     },
     "execution_count": 51,
     "metadata": {},
     "output_type": "execute_result"
    }
   ],
   "source": [
    "ops_composeG(8)"
   ]
  },
  {
   "cell_type": "code",
   "execution_count": 50,
   "id": "aa5902e8",
   "metadata": {},
   "outputs": [
    {
     "data": {
      "text/plain": [
       "932"
      ]
     },
     "execution_count": 50,
     "metadata": {},
     "output_type": "execute_result"
    }
   ],
   "source": [
    "ops_composeG_raw(8)"
   ]
  },
  {
   "cell_type": "code",
   "execution_count": 49,
   "id": "3a259e92",
   "metadata": {},
   "outputs": [
    {
     "data": {
      "image/png": "[encoded data removed]",
      "text/plain": [
       "<Figure size 648x648 with 1 Axes>"
      ]
     },
     "metadata": {},
     "output_type": "display_data"
    }
   ],
   "source": [
    "fig, ax = plt.subplots(figsize=(9, 9))\n",
    "sns.pointplot(\n",
    "    ax=ax,\n",
    "    x=\"index\", \n",
    "    y=\"vals\", \n",
    "    hue='cols', \n",
    "    data=df.reset_index().melt(\n",
    "        'index', var_name='cols',  value_name='vals'), \n",
    "    kind='point')\n",
    "ax.set(ylabel=f\"#ops\", xlabel=\"Количество соответсвий\");"
   ]
  },
  {
   "cell_type": "markdown",
   "id": "7c67da44",
   "metadata": {},
   "source": [
    "## Сравнение реализаций GE"
   ]
  },
  {
   "cell_type": "markdown",
   "id": "444c3186",
   "metadata": {},
   "source": [
    "### Векторизованная версия"
   ]
  },
  {
   "cell_type": "code",
   "execution_count": 3,
   "id": "856b0ccf",
   "metadata": {},
   "outputs": [],
   "source": [
    "motion_df = pd.read_csv(\"./error_motion.csv\")\n",
    "stability_df = pd.read_csv(\"./error_stability.csv\")"
   ]
  },
  {
   "cell_type": "code",
   "execution_count": 4,
   "id": "0ed83350",
   "metadata": {},
   "outputs": [
    {
     "data": {
      "text/html": [
       "<div>\n",
       "<style scoped>\n",
       "    .dataframe tbody tr th:only-of-type {\n",
       "        vertical-align: middle;\n",
       "    }\n",
       "\n",
       "    .dataframe tbody tr th {\n",
       "        vertical-align: top;\n",
       "    }\n",
       "\n",
       "    .dataframe thead th {\n",
       "        text-align: right;\n",
       "    }\n",
       "</style>\n",
       "<table border=\"1\" class=\"dataframe\">\n",
       "  <thead>\n",
       "    <tr style=\"text-align: right;\">\n",
       "      <th></th>\n",
       "      <th>method_name</th>\n",
       "      <th>8pt</th>\n",
       "      <th>8pt_raw</th>\n",
       "    </tr>\n",
       "  </thead>\n",
       "  <tbody>\n",
       "    <tr>\n",
       "      <th rowspan=\"8\" valign=\"top\">ARE</th>\n",
       "      <th>count</th>\n",
       "      <td>9893.0000000</td>\n",
       "      <td>9907.0000000</td>\n",
       "    </tr>\n",
       "    <tr>\n",
       "      <th>mean</th>\n",
       "      <td>0.0352938</td>\n",
       "      <td>0.0357994</td>\n",
       "    </tr>\n",
       "    <tr>\n",
       "      <th>std</th>\n",
       "      <td>0.0681595</td>\n",
       "      <td>0.0691228</td>\n",
       "    </tr>\n",
       "    <tr>\n",
       "      <th>min</th>\n",
       "      <td>0.0000006</td>\n",
       "      <td>0.0000004</td>\n",
       "    </tr>\n",
       "    <tr>\n",
       "      <th>25%</th>\n",
       "      <td>0.0017629</td>\n",
       "      <td>0.0017804</td>\n",
       "    </tr>\n",
       "    <tr>\n",
       "      <th>50%</th>\n",
       "      <td>0.0048795</td>\n",
       "      <td>0.0051280</td>\n",
       "    </tr>\n",
       "    <tr>\n",
       "      <th>75%</th>\n",
       "      <td>0.0371899</td>\n",
       "      <td>0.0376715</td>\n",
       "    </tr>\n",
       "    <tr>\n",
       "      <th>max</th>\n",
       "      <td>0.6587250</td>\n",
       "      <td>0.7628190</td>\n",
       "    </tr>\n",
       "    <tr>\n",
       "      <th rowspan=\"8\" valign=\"top\">ATE</th>\n",
       "      <th>count</th>\n",
       "      <td>9893.0000000</td>\n",
       "      <td>9907.0000000</td>\n",
       "    </tr>\n",
       "    <tr>\n",
       "      <th>mean</th>\n",
       "      <td>2.6409428</td>\n",
       "      <td>2.6518421</td>\n",
       "    </tr>\n",
       "    <tr>\n",
       "      <th>std</th>\n",
       "      <td>7.4620753</td>\n",
       "      <td>7.3871111</td>\n",
       "    </tr>\n",
       "    <tr>\n",
       "      <th>min</th>\n",
       "      <td>0.0000079</td>\n",
       "      <td>0.0000040</td>\n",
       "    </tr>\n",
       "    <tr>\n",
       "      <th>25%</th>\n",
       "      <td>0.0516239</td>\n",
       "      <td>0.0519543</td>\n",
       "    </tr>\n",
       "    <tr>\n",
       "      <th>50%</th>\n",
       "      <td>0.1732640</td>\n",
       "      <td>0.1794560</td>\n",
       "    </tr>\n",
       "    <tr>\n",
       "      <th>75%</th>\n",
       "      <td>1.7309000</td>\n",
       "      <td>1.8349750</td>\n",
       "    </tr>\n",
       "    <tr>\n",
       "      <th>max</th>\n",
       "      <td>79.3104000</td>\n",
       "      <td>79.8292000</td>\n",
       "    </tr>\n",
       "    <tr>\n",
       "      <th rowspan=\"8\" valign=\"top\">RTE</th>\n",
       "      <th>count</th>\n",
       "      <td>9893.0000000</td>\n",
       "      <td>9907.0000000</td>\n",
       "    </tr>\n",
       "    <tr>\n",
       "      <th>mean</th>\n",
       "      <td>0.2058237</td>\n",
       "      <td>0.2057668</td>\n",
       "    </tr>\n",
       "    <tr>\n",
       "      <th>std</th>\n",
       "      <td>0.4223610</td>\n",
       "      <td>0.4201445</td>\n",
       "    </tr>\n",
       "    <tr>\n",
       "      <th>min</th>\n",
       "      <td>0.0000011</td>\n",
       "      <td>0.0000002</td>\n",
       "    </tr>\n",
       "    <tr>\n",
       "      <th>25%</th>\n",
       "      <td>0.0049578</td>\n",
       "      <td>0.0051693</td>\n",
       "    </tr>\n",
       "    <tr>\n",
       "      <th>50%</th>\n",
       "      <td>0.0164039</td>\n",
       "      <td>0.0171700</td>\n",
       "    </tr>\n",
       "    <tr>\n",
       "      <th>75%</th>\n",
       "      <td>0.1230640</td>\n",
       "      <td>0.1287535</td>\n",
       "    </tr>\n",
       "    <tr>\n",
       "      <th>max</th>\n",
       "      <td>1.5708000</td>\n",
       "      <td>1.5708000</td>\n",
       "    </tr>\n",
       "    <tr>\n",
       "      <th rowspan=\"8\" valign=\"top\">time</th>\n",
       "      <th>count</th>\n",
       "      <td>9893.0000000</td>\n",
       "      <td>9907.0000000</td>\n",
       "    </tr>\n",
       "    <tr>\n",
       "      <th>mean</th>\n",
       "      <td>0.0000743</td>\n",
       "      <td>0.0000361</td>\n",
       "    </tr>\n",
       "    <tr>\n",
       "      <th>std</th>\n",
       "      <td>0.0000206</td>\n",
       "      <td>0.0000099</td>\n",
       "    </tr>\n",
       "    <tr>\n",
       "      <th>min</th>\n",
       "      <td>0.0000222</td>\n",
       "      <td>0.0000110</td>\n",
       "    </tr>\n",
       "    <tr>\n",
       "      <th>25%</th>\n",
       "      <td>0.0000554</td>\n",
       "      <td>0.0000271</td>\n",
       "    </tr>\n",
       "    <tr>\n",
       "      <th>50%</th>\n",
       "      <td>0.0000881</td>\n",
       "      <td>0.0000422</td>\n",
       "    </tr>\n",
       "    <tr>\n",
       "      <th>75%</th>\n",
       "      <td>0.0000905</td>\n",
       "      <td>0.0000436</td>\n",
       "    </tr>\n",
       "    <tr>\n",
       "      <th>max</th>\n",
       "      <td>0.0001162</td>\n",
       "      <td>0.0000491</td>\n",
       "    </tr>\n",
       "  </tbody>\n",
       "</table>\n",
       "</div>"
      ],
      "text/plain": [
       "method_name          8pt      8pt_raw\n",
       "ARE  count  9893.0000000 9907.0000000\n",
       "     mean      0.0352938    0.0357994\n",
       "     std       0.0681595    0.0691228\n",
       "     min       0.0000006    0.0000004\n",
       "     25%       0.0017629    0.0017804\n",
       "     50%       0.0048795    0.0051280\n",
       "     75%       0.0371899    0.0376715\n",
       "     max       0.6587250    0.7628190\n",
       "ATE  count  9893.0000000 9907.0000000\n",
       "     mean      2.6409428    2.6518421\n",
       "     std       7.4620753    7.3871111\n",
       "     min       0.0000079    0.0000040\n",
       "     25%       0.0516239    0.0519543\n",
       "     50%       0.1732640    0.1794560\n",
       "     75%       1.7309000    1.8349750\n",
       "     max      79.3104000   79.8292000\n",
       "RTE  count  9893.0000000 9907.0000000\n",
       "     mean      0.2058237    0.2057668\n",
       "     std       0.4223610    0.4201445\n",
       "     min       0.0000011    0.0000002\n",
       "     25%       0.0049578    0.0051693\n",
       "     50%       0.0164039    0.0171700\n",
       "     75%       0.1230640    0.1287535\n",
       "     max       1.5708000    1.5708000\n",
       "time count  9893.0000000 9907.0000000\n",
       "     mean      0.0000743    0.0000361\n",
       "     std       0.0000206    0.0000099\n",
       "     min       0.0000222    0.0000110\n",
       "     25%       0.0000554    0.0000271\n",
       "     50%       0.0000881    0.0000422\n",
       "     75%       0.0000905    0.0000436\n",
       "     max       0.0001162    0.0000491"
      ]
     },
     "execution_count": 4,
     "metadata": {},
     "output_type": "execute_result"
    }
   ],
   "source": [
    "stability_inf_mask = stability_df[\"ATE\"].isin([np.inf, -np.inf])\n",
    "stability_99q_mask = stability_df[\"ATE\"] < stability_df[\"ATE\"].quantile(.99)\n",
    "stability_df[~stability_inf_mask & stability_99q_mask].groupby(\n",
    "    [\"method_name\"])[[\"ARE\", \"ATE\", \"RTE\", \"time\"]].describe().T"
   ]
  },
  {
   "cell_type": "code",
   "execution_count": 7,
   "id": "b43c9fd9",
   "metadata": {},
   "outputs": [
    {
     "data": {
      "image/png": "[encoded data removed]",
      "text/plain": [
       "<Figure size 1296x648 with 2 Axes>"
      ]
     },
     "metadata": {},
     "output_type": "display_data"
    }
   ],
   "source": [
    "fig, axes = plt.subplots(ncols=2,figsize=(18, 9))\n",
    "fig.subplots_adjust(left=0.05, bottom=0.1, right=0.9, top=0.9, wspace=0.2, hspace=0.5)\n",
    "\n",
    "for i, (est_name, est) in enumerate(esimators.items()):\n",
    "        order = stability_df.groupby([\"method_name\"])['time'].aggregate(est).reset_index().sort_values('time')\n",
    "        sns.barplot(\n",
    "            ax=axes[i], \n",
    "            x=\"method_name\", \n",
    "            y=\"time\", \n",
    "            data=stability_df,\n",
    "            estimator=est,\n",
    "            order=order['method_name']\n",
    "        )\n",
    "        \n",
    "        axes[i].set(ylabel=f\"Time, ms ({est_name})\", xlabel=\"Algorithm\")\n",
    "        axes[i].yaxis.label.set_size(25)\n",
    "        axes[i].xaxis.label.set_size(25)\n",
    "        axes[i].tick_params(axis='x', rotation=45)"
   ]
  },
  {
   "cell_type": "markdown",
   "id": "25bdf800",
   "metadata": {},
   "source": [
    "### Версия без векторизации"
   ]
  },
  {
   "cell_type": "code",
   "execution_count": 8,
   "id": "91e5e7cc",
   "metadata": {},
   "outputs": [
    {
     "data": {
      "text/html": [
       "<div>\n",
       "<style scoped>\n",
       "    .dataframe tbody tr th:only-of-type {\n",
       "        vertical-align: middle;\n",
       "    }\n",
       "\n",
       "    .dataframe tbody tr th {\n",
       "        vertical-align: top;\n",
       "    }\n",
       "\n",
       "    .dataframe thead th {\n",
       "        text-align: right;\n",
       "    }\n",
       "</style>\n",
       "<table border=\"1\" class=\"dataframe\">\n",
       "  <thead>\n",
       "    <tr style=\"text-align: right;\">\n",
       "      <th></th>\n",
       "      <th>method_name</th>\n",
       "      <th>8pt</th>\n",
       "      <th>8pt_raw</th>\n",
       "    </tr>\n",
       "  </thead>\n",
       "  <tbody>\n",
       "    <tr>\n",
       "      <th rowspan=\"8\" valign=\"top\">ARE</th>\n",
       "      <th>count</th>\n",
       "      <td>9907.0000000</td>\n",
       "      <td>9893.0000000</td>\n",
       "    </tr>\n",
       "    <tr>\n",
       "      <th>mean</th>\n",
       "      <td>0.0357992</td>\n",
       "      <td>0.0352928</td>\n",
       "    </tr>\n",
       "    <tr>\n",
       "      <th>std</th>\n",
       "      <td>0.0691237</td>\n",
       "      <td>0.0681601</td>\n",
       "    </tr>\n",
       "    <tr>\n",
       "      <th>min</th>\n",
       "      <td>0.0000005</td>\n",
       "      <td>0.0000002</td>\n",
       "    </tr>\n",
       "    <tr>\n",
       "      <th>25%</th>\n",
       "      <td>0.0017795</td>\n",
       "      <td>0.0017616</td>\n",
       "    </tr>\n",
       "    <tr>\n",
       "      <th>50%</th>\n",
       "      <td>0.0051326</td>\n",
       "      <td>0.0048795</td>\n",
       "    </tr>\n",
       "    <tr>\n",
       "      <th>75%</th>\n",
       "      <td>0.0376715</td>\n",
       "      <td>0.0371902</td>\n",
       "    </tr>\n",
       "    <tr>\n",
       "      <th>max</th>\n",
       "      <td>0.7628200</td>\n",
       "      <td>0.6587240</td>\n",
       "    </tr>\n",
       "    <tr>\n",
       "      <th rowspan=\"8\" valign=\"top\">ATE</th>\n",
       "      <th>count</th>\n",
       "      <td>9907.0000000</td>\n",
       "      <td>9893.0000000</td>\n",
       "    </tr>\n",
       "    <tr>\n",
       "      <th>mean</th>\n",
       "      <td>2.6518316</td>\n",
       "      <td>2.6407873</td>\n",
       "    </tr>\n",
       "    <tr>\n",
       "      <th>std</th>\n",
       "      <td>7.3868716</td>\n",
       "      <td>7.4621543</td>\n",
       "    </tr>\n",
       "    <tr>\n",
       "      <th>min</th>\n",
       "      <td>0.0000081</td>\n",
       "      <td>0.0000054</td>\n",
       "    </tr>\n",
       "    <tr>\n",
       "      <th>25%</th>\n",
       "      <td>0.0519622</td>\n",
       "      <td>0.0516315</td>\n",
       "    </tr>\n",
       "    <tr>\n",
       "      <th>50%</th>\n",
       "      <td>0.1794280</td>\n",
       "      <td>0.1730430</td>\n",
       "    </tr>\n",
       "    <tr>\n",
       "      <th>75%</th>\n",
       "      <td>1.8349000</td>\n",
       "      <td>1.7309900</td>\n",
       "    </tr>\n",
       "    <tr>\n",
       "      <th>max</th>\n",
       "      <td>79.8289000</td>\n",
       "      <td>79.3099000</td>\n",
       "    </tr>\n",
       "    <tr>\n",
       "      <th rowspan=\"8\" valign=\"top\">RTE</th>\n",
       "      <th>count</th>\n",
       "      <td>9907.0000000</td>\n",
       "      <td>9893.0000000</td>\n",
       "    </tr>\n",
       "    <tr>\n",
       "      <th>mean</th>\n",
       "      <td>0.2057665</td>\n",
       "      <td>0.2058212</td>\n",
       "    </tr>\n",
       "    <tr>\n",
       "      <th>std</th>\n",
       "      <td>0.4201448</td>\n",
       "      <td>0.4223636</td>\n",
       "    </tr>\n",
       "    <tr>\n",
       "      <th>min</th>\n",
       "      <td>0.0000007</td>\n",
       "      <td>0.0000004</td>\n",
       "    </tr>\n",
       "    <tr>\n",
       "      <th>25%</th>\n",
       "      <td>0.0051668</td>\n",
       "      <td>0.0049609</td>\n",
       "    </tr>\n",
       "    <tr>\n",
       "      <th>50%</th>\n",
       "      <td>0.0171808</td>\n",
       "      <td>0.0164039</td>\n",
       "    </tr>\n",
       "    <tr>\n",
       "      <th>75%</th>\n",
       "      <td>0.1287535</td>\n",
       "      <td>0.1230640</td>\n",
       "    </tr>\n",
       "    <tr>\n",
       "      <th>max</th>\n",
       "      <td>1.5708000</td>\n",
       "      <td>1.5708000</td>\n",
       "    </tr>\n",
       "    <tr>\n",
       "      <th rowspan=\"8\" valign=\"top\">time</th>\n",
       "      <th>count</th>\n",
       "      <td>9907.0000000</td>\n",
       "      <td>9893.0000000</td>\n",
       "    </tr>\n",
       "    <tr>\n",
       "      <th>mean</th>\n",
       "      <td>0.0000757</td>\n",
       "      <td>0.0000541</td>\n",
       "    </tr>\n",
       "    <tr>\n",
       "      <th>std</th>\n",
       "      <td>0.0000210</td>\n",
       "      <td>0.0000154</td>\n",
       "    </tr>\n",
       "    <tr>\n",
       "      <th>min</th>\n",
       "      <td>0.0000228</td>\n",
       "      <td>0.0000149</td>\n",
       "    </tr>\n",
       "    <tr>\n",
       "      <th>25%</th>\n",
       "      <td>0.0000570</td>\n",
       "      <td>0.0000398</td>\n",
       "    </tr>\n",
       "    <tr>\n",
       "      <th>50%</th>\n",
       "      <td>0.0000892</td>\n",
       "      <td>0.0000642</td>\n",
       "    </tr>\n",
       "    <tr>\n",
       "      <th>75%</th>\n",
       "      <td>0.0000915</td>\n",
       "      <td>0.0000660</td>\n",
       "    </tr>\n",
       "    <tr>\n",
       "      <th>max</th>\n",
       "      <td>0.0001460</td>\n",
       "      <td>0.0001051</td>\n",
       "    </tr>\n",
       "  </tbody>\n",
       "</table>\n",
       "</div>"
      ],
      "text/plain": [
       "method_name          8pt      8pt_raw\n",
       "ARE  count  9907.0000000 9893.0000000\n",
       "     mean      0.0357992    0.0352928\n",
       "     std       0.0691237    0.0681601\n",
       "     min       0.0000005    0.0000002\n",
       "     25%       0.0017795    0.0017616\n",
       "     50%       0.0051326    0.0048795\n",
       "     75%       0.0376715    0.0371902\n",
       "     max       0.7628200    0.6587240\n",
       "ATE  count  9907.0000000 9893.0000000\n",
       "     mean      2.6518316    2.6407873\n",
       "     std       7.3868716    7.4621543\n",
       "     min       0.0000081    0.0000054\n",
       "     25%       0.0519622    0.0516315\n",
       "     50%       0.1794280    0.1730430\n",
       "     75%       1.8349000    1.7309900\n",
       "     max      79.8289000   79.3099000\n",
       "RTE  count  9907.0000000 9893.0000000\n",
       "     mean      0.2057665    0.2058212\n",
       "     std       0.4201448    0.4223636\n",
       "     min       0.0000007    0.0000004\n",
       "     25%       0.0051668    0.0049609\n",
       "     50%       0.0171808    0.0164039\n",
       "     75%       0.1287535    0.1230640\n",
       "     max       1.5708000    1.5708000\n",
       "time count  9907.0000000 9893.0000000\n",
       "     mean      0.0000757    0.0000541\n",
       "     std       0.0000210    0.0000154\n",
       "     min       0.0000228    0.0000149\n",
       "     25%       0.0000570    0.0000398\n",
       "     50%       0.0000892    0.0000642\n",
       "     75%       0.0000915    0.0000660\n",
       "     max       0.0001460    0.0001051"
      ]
     },
     "execution_count": 8,
     "metadata": {},
     "output_type": "execute_result"
    }
   ],
   "source": [
    "stability_inf_mask = stability_df[\"ATE\"].isin([np.inf, -np.inf])\n",
    "stability_99q_mask = stability_df[\"ATE\"] < stability_df[\"ATE\"].quantile(.99)\n",
    "stability_df[~stability_inf_mask & stability_99q_mask].groupby(\n",
    "    [\"method_name\"])[[\"ARE\", \"ATE\", \"RTE\", \"time\"]].describe().T"
   ]
  },
  {
   "cell_type": "code",
   "execution_count": 6,
   "id": "9d318974",
   "metadata": {},
   "outputs": [],
   "source": [
    "esimators = {\"median\": np.median, \"mean\": np.mean}"
   ]
  },
  {
   "cell_type": "code",
   "execution_count": 5,
   "id": "b4a15675",
   "metadata": {},
   "outputs": [],
   "source": [
    "stability_df['time'] = stability_df['time'] * 1000"
   ]
  },
  {
   "cell_type": "code",
   "execution_count": 11,
   "id": "e04831c4",
   "metadata": {},
   "outputs": [
    {
     "data": {
      "image/png": "[encoded data removed]",
      "text/plain": [
       "<Figure size 1296x648 with 2 Axes>"
      ]
     },
     "metadata": {},
     "output_type": "display_data"
    }
   ],
   "source": [
    "fig, axes = plt.subplots(ncols=2,figsize=(18, 9))\n",
    "fig.subplots_adjust(left=0.05, bottom=0.1, right=0.9, top=0.9, wspace=0.2, hspace=0.5)\n",
    "\n",
    "for i, (est_name, est) in enumerate(esimators.items()):\n",
    "        order = stability_df.groupby([\"method_name\"])['time'].aggregate(est).reset_index().sort_values('time')\n",
    "        sns.barplot(\n",
    "            ax=axes[i], \n",
    "            x=\"method_name\", \n",
    "            y=\"time\", \n",
    "            data=stability_df,\n",
    "            estimator=est,\n",
    "            order=order['method_name']\n",
    "        )\n",
    "        \n",
    "        axes[i].set(ylabel=f\"Time, ms ({est_name})\", xlabel=\"Algorithm\")\n",
    "        axes[i].yaxis.label.set_size(25)\n",
    "        axes[i].xaxis.label.set_size(25)\n",
    "        axes[i].tick_params(axis='x', rotation=45)"
   ]
  }
 ],
 "metadata": {
  "kernelspec": {
   "display_name": "Python 3 (ipykernel)",
   "language": "python",
   "name": "python3"
  },
  "language_info": {
   "codemirror_mode": {
    "name": "ipython",
    "version": 3
   },
   "file_extension": ".py",
   "mimetype": "text/x-python",
   "name": "python",
   "nbconvert_exporter": "python",
   "pygments_lexer": "ipython3",
   "version": "3.9.7"
  }
 },
 "nbformat": 4,
 "nbformat_minor": 5
}
